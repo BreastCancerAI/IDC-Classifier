{
 "cells": [
  {
   "cell_type": "markdown",
   "metadata": {},
   "source": [
    "## IDC Classification Trainer"
   ]
  },
  {
   "cell_type": "markdown",
   "metadata": {},
   "source": [
    "This notebook provides the functionality to train a CaffeNet model for classification of Invasive Ductal Carcinoma (IDC). We are training the model on the lastest Skylake cluster (c009) on Intel A.I. DevCloud (Colfax Cluster) and will use the model with Intel Movidius.\n",
    "\n",
    "This tutorial is part of BreastCancerAI Project by Adam Milton-Barker."
   ]
  },
  {
   "cell_type": "markdown",
   "metadata": {},
   "source": [
    "# Create DataSorter job"
   ]
  },
  {
   "cell_type": "markdown",
   "metadata": {},
   "source": [
    "The first step is to create a script that can be used to create a job on the A.I. DevCloud for sorting the data ready for training. \n",
    "\n",
    "Before you run the following block make sure you have followed all of the steps at the beginning of the README file in the home directory of this project."
   ]
  },
  {
   "cell_type": "code",
   "execution_count": 22,
   "metadata": {},
   "outputs": [
    {
     "name": "stdout",
     "output_type": "stream",
     "text": [
      "Writing IDC-Classifier-Trainer\n"
     ]
    }
   ],
   "source": [
    "%%writefile IDC-Classifier-Trainer\n",
    "cd $PBS_O_WORKDIR\n",
    "echo \"* Hello world from compute server `hostname` on the A.I. DevCloud!\"\n",
    "echo \"* The current directory is ${PWD}.\"\n",
    "echo \"* Compute server's CPU model and number of logical CPUs:\"\n",
    "lscpu | grep 'Model name\\\\|^CPU(s)'\n",
    "echo \"* Python available to us:\"\n",
    "export PATH=/glob/intel-python/python3/bin:$PATH;\n",
    "which python\n",
    "python --version \n",
    "echo \"* Starting IDC-Classifier-DataSorter job\"\n",
    "echo \"* This job sorts the data for the IDC Classifier\"\n",
    "python Trainer.py\n",
    "sleep 10\n",
    "echo \"*Adios\"\n",
    "# Remember to have an empty line at the end of the file; otherwise the last command will not run\n"
   ]
  },
  {
   "cell_type": "markdown",
   "metadata": {},
   "source": [
    "# Check the job script was created"
   ]
  },
  {
   "cell_type": "markdown",
   "metadata": {},
   "source": [
    "Now check that the job script was created successfully by executing the following block which will print out the files located in the current directory. If all was successful, you should see the file \"AA3PG-Trainer\". You can also open this file to confirm that the contents are correct."
   ]
  },
  {
   "cell_type": "code",
   "execution_count": 23,
   "metadata": {},
   "outputs": [
    {
     "name": "stdout",
     "output_type": "stream",
     "text": [
      "\u001b[0m\u001b[01;34mcomponents\u001b[0m/  \u001b[01;34mdata\u001b[0m/  IDC-Classifier-Trainer  \u001b[01;34mmodel\u001b[0m/  Trainer.ipynb  Trainer.py\r\n"
     ]
    }
   ],
   "source": [
    "%ls"
   ]
  },
  {
   "cell_type": "markdown",
   "metadata": {},
   "source": [
    "# Submit the job script"
   ]
  },
  {
   "cell_type": "markdown",
   "metadata": {},
   "source": [
    "Now it is time to submit your training job script, this will queue the training script ready for execution and return your job ID. In this command we set the walltime to 24 hours, which should give our script enough time to fully complete without getting killed. "
   ]
  },
  {
   "cell_type": "code",
   "execution_count": 25,
   "metadata": {},
   "outputs": [
    {
     "name": "stdout",
     "output_type": "stream",
     "text": [
      "150717.c009\r\n"
     ]
    }
   ],
   "source": [
    "!qsub -l walltime=24:00:00 IDC-Classifier-Trainer"
   ]
  },
  {
   "cell_type": "markdown",
   "metadata": {},
   "source": [
    "# Check the status of the job"
   ]
  },
  {
   "cell_type": "markdown",
   "metadata": {},
   "source": [
    "Now you can monitor the status of the job by executing the following block. You may need to do this a number of times before the job completes. \n",
    "\n",
    "JOB STATUSES\n",
    "\n",
    "R: Running  \n",
    "Q: Waiting in queue"
   ]
  },
  {
   "cell_type": "code",
   "execution_count": 26,
   "metadata": {},
   "outputs": [
    {
     "name": "stdout",
     "output_type": "stream",
     "text": [
      "Job ID                    Name             User            Time Use S Queue\r\n",
      "------------------------- ---------------- --------------- -------- - -----\r\n",
      "150666.c009                ...ub-singleuser u13339          00:00:23 R jupyterhub     \r\n",
      "150717.c009                ...ifier-Trainer u13339                 0 R batch          \r\n"
     ]
    }
   ],
   "source": [
    "!qstat"
   ]
  },
  {
   "cell_type": "markdown",
   "metadata": {},
   "source": [
    "You can also get a full list of stats for the job by executing the following block, replacing the ID with your job ID:"
   ]
  },
  {
   "cell_type": "code",
   "execution_count": 27,
   "metadata": {},
   "outputs": [
    {
     "name": "stdout",
     "output_type": "stream",
     "text": [
      "Job Id: 150717.c009\r\n",
      "    Job_Name = IDC-Classifier-Trainer\r\n",
      "    Job_Owner = u13339@c009-n011\r\n",
      "    job_state = R\r\n",
      "    queue = batch\r\n",
      "    server = c009\r\n",
      "    Checkpoint = u\r\n",
      "    ctime = Sat Aug 11 13:00:02 2018\r\n",
      "    Error_Path = c009-n011:/home/u13339/CaffeNet/IDC-Classifier-Trainer.e15071\r\n",
      "\t7\r\n",
      "    exec_host = c009-n022/0-1\r\n",
      "    Hold_Types = n\r\n",
      "    Join_Path = n\r\n",
      "    Keep_Files = n\r\n",
      "    Mail_Points = n\r\n",
      "    mtime = Sat Aug 11 13:00:03 2018\r\n",
      "    Output_Path = c009-n011:/home/u13339/CaffeNet/IDC-Classifier-Trainer.o1507\r\n",
      "\t17\r\n",
      "    Priority = 0\r\n",
      "    qtime = Sat Aug 11 13:00:02 2018\r\n",
      "    Rerunable = True\r\n",
      "    Resource_List.nodect = 1\r\n",
      "    Resource_List.nodes = 1:ppn=2\r\n",
      "    Resource_List.walltime = 24:00:00\r\n",
      "    session_id = 198910\r\n",
      "    Variable_List = PBS_O_QUEUE=batch,PBS_O_HOME=/home/u13339,\r\n",
      "\tPBS_O_LOGNAME=u13339,\r\n",
      "\tPBS_O_PATH=/glob/intel-python/python3/bin/:/glob/intel-python/python3\r\n",
      "\t/bin/:/glob/intel-python/python2/bin/:/glob/development-tools/versions\r\n",
      "\t/intel-parallel-studio-2018-update3/compilers_and_libraries_2018.3.222\r\n",
      "\t/linux/bin/intel64:/glob/development-tools/versions/intel-parallel-stu\r\n",
      "\tdio-2018-update3/compilers_and_libraries_2018.3.222/linux/mpi/intel64/\r\n",
      "\tbin:/glob/intel-python/python3/bin/:/glob/intel-python/python2/bin/:/g\r\n",
      "\tlob/development-tools/versions/intel-parallel-studio-2018-update3/comp\r\n",
      "\tilers_and_libraries_2018.3.222/linux/bin/intel64:/glob/development-too\r\n",
      "\tls/versions/intel-parallel-studio-2018-update3/compilers_and_libraries\r\n",
      "\t_2018.3.222/linux/mpi/intel64/bin:/sbin:/bin:/usr/sbin:/usr/bin:/usr/l\r\n",
      "\tocal/sbin:/home/u13339/.local/bin:/home/u13339/bin:/home/u13339/.local\r\n",
      "\t/bin:/home/u13339/bin:/usr/local/bin,\r\n",
      "\tPBS_O_MAIL=/var/spool/mail/u13339,PBS_O_SHELL=/bin/bash,\r\n",
      "\tPBS_O_LANG=en_US.UTF-8,\r\n",
      "\tPBS_O_SUBMIT_FILTER=/usr/local/sbin/torque_submitfilter,\r\n",
      "\tPBS_O_WORKDIR=/home/u13339/CaffeNet,PBS_O_HOST=c009-n011,\r\n",
      "\tPBS_O_SERVER=c009\r\n",
      "    euser = u13339\r\n",
      "    egroup = u13339\r\n",
      "    queue_type = E\r\n",
      "    etime = Sat Aug 11 13:00:02 2018\r\n",
      "    submit_args = -l walltime=24:00:00 IDC-Classifier-Trainer\r\n",
      "    start_time = Sat Aug 11 13:00:03 2018\r\n",
      "    Walltime.Remaining = 86394\r\n",
      "    start_count = 1\r\n",
      "    fault_tolerant = False\r\n",
      "    job_radix = 0\r\n",
      "    submit_host = c009-n011\r\n",
      "\r\n"
     ]
    }
   ],
   "source": [
    "!qstat -f 150717"
   ]
  },
  {
   "cell_type": "markdown",
   "metadata": {},
   "source": [
    "# Check error and output files"
   ]
  },
  {
   "cell_type": "markdown",
   "metadata": {},
   "source": [
    "After the above job finished you will see two files in your current directory, as the job ID in my case was 150717, my error file ends with e150717 and my output file ends with o150717. In this case the error file contained a FutureWarning. The output will show you the full output of your program."
   ]
  },
  {
   "cell_type": "code",
   "execution_count": 36,
   "metadata": {},
   "outputs": [
    {
     "name": "stdout",
     "output_type": "stream",
     "text": [
      "\u001b[0m\u001b[01;34mcomponents\u001b[0m/             IDC-Classifier-Trainer.e150717  Trainer.ipynb\r\n",
      "\u001b[01;34mdata\u001b[0m/                   IDC-Classifier-Trainer.o150717  Trainer.py\r\n",
      "IDC-Classifier-Trainer  \u001b[01;34mmodel\u001b[0m/\r\n"
     ]
    }
   ],
   "source": [
    "%ls"
   ]
  },
  {
   "cell_type": "markdown",
   "metadata": {},
   "source": [
    "# Create Training job"
   ]
  },
  {
   "cell_type": "markdown",
   "metadata": {},
   "source": [
    "Next step is to create a job on the A.I. DevCloud for training the IDC Classifier.  Open a new terminal in Notebooks and go to the CaffeNet folder on AI DevCloud and execute the following command, noting down the ID that is provided.\n",
    "\n",
    "__echo caffe train --solver ~/IDC-Classifier/CaffeNet/data/solver.prototxt | qsub -o ~/IDC-Classifier/CaffeNet/model/output.txt -e ~/IDC-Classifier/CaffeNet/model/train.log__"
   ]
  },
  {
   "cell_type": "markdown",
   "metadata": {},
   "source": [
    "## Check Training Job"
   ]
  },
  {
   "cell_type": "markdown",
   "metadata": {},
   "source": [
    "Check the job id provided to you by executing the following block:"
   ]
  },
  {
   "cell_type": "code",
   "execution_count": 1,
   "metadata": {},
   "outputs": [
    {
     "name": "stdout",
     "output_type": "stream",
     "text": [
      "Job Id: 150967.c009\r\n",
      "    Job_Name = STDIN\r\n",
      "    Job_Owner = u13339@c009-n021\r\n",
      "    resources_used.cput = 00:24:55\r\n",
      "    resources_used.energy_used = 0\r\n",
      "    resources_used.mem = 5551248kb\r\n",
      "    resources_used.vmem = 1959492480kb\r\n",
      "    resources_used.walltime = 00:02:09\r\n",
      "    job_state = R\r\n",
      "    queue = batch\r\n",
      "    server = c009\r\n",
      "    Checkpoint = u\r\n",
      "    ctime = Sun Aug 12 04:17:36 2018\r\n",
      "    Error_Path = c009-n021:/home/u13339/CaffeNet/model/train.log\r\n",
      "    exec_host = c009-n043/0-1\r\n",
      "    Hold_Types = n\r\n",
      "    Join_Path = n\r\n",
      "    Keep_Files = n\r\n",
      "    Mail_Points = n\r\n",
      "    mtime = Sun Aug 12 04:17:37 2018\r\n",
      "    Output_Path = c009-n021:/home/u13339/CaffeNet/model/output.txt\r\n",
      "    Priority = 0\r\n",
      "    qtime = Sun Aug 12 04:17:36 2018\r\n",
      "    Rerunable = True\r\n",
      "    Resource_List.nodect = 1\r\n",
      "    Resource_List.nodes = 1:ppn=2\r\n",
      "    Resource_List.walltime = 06:00:00\r\n",
      "    session_id = 41002\r\n",
      "    Variable_List = PBS_O_QUEUE=batch,PBS_O_HOME=/home/u13339,\r\n",
      "\tPBS_O_LOGNAME=u13339,\r\n",
      "\tPBS_O_PATH=/glob/intel-python/python3/bin/:/glob/intel-python/python3\r\n",
      "\t/bin/:/glob/intel-python/python2/bin/:/glob/development-tools/versions\r\n",
      "\t/intel-parallel-studio-2018-update3/compilers_and_libraries_2018.3.222\r\n",
      "\t/linux/bin/intel64:/glob/development-tools/versions/intel-parallel-stu\r\n",
      "\tdio-2018-update3/compilers_and_libraries_2018.3.222/linux/mpi/intel64/\r\n",
      "\tbin:/glob/intel-python/python3/bin/:/glob/intel-python/python2/bin/:/g\r\n",
      "\tlob/development-tools/versions/intel-parallel-studio-2018-update3/comp\r\n",
      "\tilers_and_libraries_2018.3.222/linux/bin/intel64:/glob/development-too\r\n",
      "\tls/versions/intel-parallel-studio-2018-update3/compilers_and_libraries\r\n",
      "\t_2018.3.222/linux/mpi/intel64/bin:/sbin:/bin:/usr/sbin:/usr/bin:/usr/l\r\n",
      "\tocal/sbin:/home/u13339/.local/bin:/home/u13339/bin:/home/u13339/.local\r\n",
      "\t/bin:/home/u13339/bin:/usr/local/bin,\r\n",
      "\tPBS_O_MAIL=/var/spool/mail/u13339,PBS_O_SHELL=/bin/bash,\r\n",
      "\tPBS_O_LANG=en_US.UTF-8,\r\n",
      "\tPBS_O_SUBMIT_FILTER=/usr/local/sbin/torque_submitfilter,\r\n",
      "\tPBS_O_WORKDIR=/home/u13339/CaffeNet,PBS_O_HOST=c009-n021,\r\n",
      "\tPBS_O_SERVER=c009\r\n",
      "    euser = u13339\r\n",
      "    egroup = u13339\r\n",
      "    queue_type = E\r\n",
      "    etime = Sun Aug 12 04:17:36 2018\r\n",
      "    submit_args = -o /home/u13339/CaffeNet/model/output.txt -e /home/u13339/Ca\r\n",
      "\tffeNet/model/train.log\r\n",
      "    start_time = Sun Aug 12 04:17:37 2018\r\n",
      "    Walltime.Remaining = 21418\r\n",
      "    start_count = 1\r\n",
      "    fault_tolerant = False\r\n",
      "    job_radix = 0\r\n",
      "    submit_host = c009-n021\r\n",
      "\r\n"
     ]
    }
   ],
   "source": [
    "!qstat -f 150967"
   ]
  },
  {
   "cell_type": "markdown",
   "metadata": {},
   "source": [
    "# Plot learning curve"
   ]
  },
  {
   "cell_type": "markdown",
   "metadata": {},
   "source": [
    "Here we will use our training logs to plot a graph of how the network performed during training and evaluation:"
   ]
  },
  {
   "cell_type": "code",
   "execution_count": 3,
   "metadata": {},
   "outputs": [],
   "source": [
    "!python components/plot_learning_curve.py /home/u13339/CaffeNet/model/train.log /home/u13339/CaffeNet/model/train.png"
   ]
  }
 ],
 "metadata": {
  "kernelspec": {
   "display_name": "Python 3 (Intel, 2018 update 2)",
   "language": "python",
   "name": "intel_distribution_of_python_3_2018u2"
  },
  "language_info": {
   "codemirror_mode": {
    "name": "ipython",
    "version": 3
   },
   "file_extension": ".py",
   "mimetype": "text/x-python",
   "name": "python",
   "nbconvert_exporter": "python",
   "pygments_lexer": "ipython3",
   "version": "3.6.3"
  }
 },
 "nbformat": 4,
 "nbformat_minor": 2
}
